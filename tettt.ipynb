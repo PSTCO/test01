{
 "cells": [
  {
   "cell_type": "code",
   "execution_count": 1,
   "metadata": {},
   "outputs": [],
   "source": [
    "import MeCab"
   ]
  },
  {
   "cell_type": "code",
   "execution_count": 5,
   "metadata": {},
   "outputs": [],
   "source": [
    "m = MeCab.Tagger()"
   ]
  },
  {
   "cell_type": "code",
   "execution_count": 6,
   "metadata": {},
   "outputs": [
    {
     "data": {
      "text/plain": [
       "'안녕\\tNNG,행위,T,안녕,*,*,*,*\\n하\\tXSV,*,F,하,*,*,*,*\\n세요\\tEP+EF,*,F,세요,Inflect,EP,EF,시/EP/*+어요/EF/*\\n.\\tSF,*,*,*,*,*,*,*\\n이영환\\tNNP,인명,T,이영환,*,*,*,*\\n입니다\\tVCP+EF,*,F,입니다,Inflect,VCP,EF,이/VCP/*+ᄇ니다/EF/*\\n.\\tSF,*,*,*,*,*,*,*\\nEOS\\n'"
      ]
     },
     "execution_count": 6,
     "metadata": {},
     "output_type": "execute_result"
    }
   ],
   "source": [
    "m.parse('안녕하세요. 이영환입니다.')"
   ]
  },
  {
   "cell_type": "code",
   "execution_count": 7,
   "metadata": {},
   "outputs": [],
   "source": [
    "from konlpy.tag import Mecab"
   ]
  },
  {
   "cell_type": "code",
   "execution_count": 8,
   "metadata": {},
   "outputs": [],
   "source": [
    "m = Mecab('C:\\mecab\\mecab-ko-dic')"
   ]
  },
  {
   "cell_type": "code",
   "execution_count": 9,
   "metadata": {},
   "outputs": [
    {
     "data": {
      "text/plain": [
       "[('안녕', 'NNG'),\n",
       " ('하', 'XSV'),\n",
       " ('세요', 'EP+EF'),\n",
       " ('.', 'SF'),\n",
       " ('이영환', 'NNP'),\n",
       " ('입니다', 'VCP+EF'),\n",
       " ('.', 'SF')]"
      ]
     },
     "execution_count": 9,
     "metadata": {},
     "output_type": "execute_result"
    }
   ],
   "source": [
    "m.pos('안녕하세요. 이영환입니다.')"
   ]
  },
  {
   "cell_type": "code",
   "execution_count": null,
   "metadata": {},
   "outputs": [],
   "source": []
  }
 ],
 "metadata": {
  "interpreter": {
   "hash": "dd6d5b884dc52454b73c985ce9b54ab538adf580f6cb81c2d162197cd66d2b3e"
  },
  "kernelspec": {
   "display_name": "Python 3.7.10 ('py37')",
   "language": "python",
   "name": "python3"
  },
  "language_info": {
   "codemirror_mode": {
    "name": "ipython",
    "version": 3
   },
   "file_extension": ".py",
   "mimetype": "text/x-python",
   "name": "python",
   "nbconvert_exporter": "python",
   "pygments_lexer": "ipython3",
   "version": "3.7.10"
  },
  "orig_nbformat": 4
 },
 "nbformat": 4,
 "nbformat_minor": 2
}
